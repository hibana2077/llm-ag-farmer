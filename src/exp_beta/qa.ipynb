{
 "cells": [
  {
   "cell_type": "code",
   "execution_count": 1,
   "metadata": {},
   "outputs": [],
   "source": [
    "from tqdm import tqdm\n",
    "from langchain_groq import ChatGroq\n",
    "from langchain_community.chat_models import ChatOllama\n",
    "from langchain_community.document_loaders import WebBaseLoader\n",
    "from langchain.text_splitter import RecursiveCharacterTextSplitter\n",
    "from langchain_community.embeddings import OllamaEmbeddings\n",
    "from langchain_community.vectorstores.faiss import FAISS\n",
    "from langchain_core.prompts import PromptTemplate\n",
    "from langchain_core.messages.ai import AIMessage\n",
    "from langchain_core.messages.human import HumanMessage\n",
    "from langchain_core.messages.system import SystemMessage\n",
    "from langchain_core.output_parsers import JsonOutputParser\n",
    "from langchain_core.pydantic_v1 import BaseModel, Field\n",
    "from typing import List, Optional\n",
    "from datetime import datetime\n",
    "from enum import Enum\n",
    "import pandas as pd\n",
    "import time\n",
    "import os\n",
    "import yaml"
   ]
  },
  {
   "cell_type": "code",
   "execution_count": 2,
   "metadata": {},
   "outputs": [],
   "source": [
    "question_df = pd.read_csv('./multiple_choice_questions.csv')"
   ]
  },
  {
   "cell_type": "code",
   "execution_count": 3,
   "metadata": {},
   "outputs": [],
   "source": [
    "text_splitter = RecursiveCharacterTextSplitter(chunk_size=1000, chunk_overlap=200)\n",
    "loader = WebBaseLoader(question_df.iloc[0][\"url\"])\n",
    "data = loader.load()\n",
    "splits = text_splitter.split_text(data[0].page_content.replace(\"\\n\", \" \"))"
   ]
  },
  {
   "cell_type": "code",
   "execution_count": 4,
   "metadata": {},
   "outputs": [],
   "source": [
    "embeddings = OllamaEmbeddings(model='llama3')"
   ]
  },
  {
   "cell_type": "code",
   "execution_count": 5,
   "metadata": {},
   "outputs": [],
   "source": [
    "vectorstore = FAISS.from_texts(texts=splits, embedding=embeddings)"
   ]
  },
  {
   "cell_type": "code",
   "execution_count": 6,
   "metadata": {},
   "outputs": [],
   "source": [
    "out = vectorstore.similarity_search(question_df.iloc[0]['text'], k=5)"
   ]
  },
  {
   "cell_type": "code",
   "execution_count": 7,
   "metadata": {},
   "outputs": [
    {
     "data": {
      "text/plain": [
       "[Document(page_content=\"Gruda, N. (2013). “Good agricultural practices for greenhouse vegetable crops—principles for mediterranean climate areas, 12: soilless culture,” in FAO Plant Production and Protection Paper. (Rome: Food and Agriculture Organization of the United Nations).    Smith, P., Bustamante, M., Ahammad, H., Clark, H., Dong, H., Elsiddig, E. A., et al. (2014). “Agriculture, forestry and other land use (AFOLU),” in Climate Change 2014: Mitigation of Climate Change. Contribution of Working Group III to the Fifth Assessment Report of the Intergovernmental Panel on Climate Change, eds. O. Edenhofer, R. Pichs-Madruga, Y. Sokona, E. Farahani, S. Kadner, K. Seyboth,. (New York, NY: Cambridge University Press), 112. Google Scholar    Springmann, M., Clark, M., Mason-D'Croz, D., Wiebe, K., Bodirsky, B. L., Lassaletta, L., et al. (2018). Options for keeping the food system within environmental limits. Nature 562, 519–525. doi: 10.1038/s41586-018-0594-0 PubMed Abstract | CrossRef Full Text | Google Scholar\"),\n",
       " Document(page_content='(Gruda et al., 2019). In this study, we focused on determining the N2O emissions from hydroponic tomato and cucumber cultivation under real production conditions. Although the CO2 emissions from the root zone were about 10 times higher than the N2O emissions converted to CO2 equivalents (Table 3), the measured CO2 emissions do not affect the greenhouse gas budget of plant cultivation because of the preceding photosynthetic CO2 fixation (Smith et al., 2014). In contrast, CH4 emissions would also affect the GHG budget of plant cultivation but were not traceable in this study. Possibly, CH4 production was suppressed by rather aerobic conditions in the growing bags and by the high abundance of nitrate fertilizer (Le Mer and Roger, 2001). Despite a few gaps, the data collected during 2019 and 2020 was sufficient for estimating seasonal N2O emissions from rock wool substrates, since the combined dataset from both years covers all different growth stages of the two vegetable plants.'),\n",
       " Document(page_content='is permitted which does not comply with these terms. *Correspondence: Stefan Karlowsky, karlowsky@igzev.de   Disclaimer:        All claims expressed in this article are solely those of the authors and       do not necessarily represent those of their affiliated organizations, or       those of the publisher, the editors and the reviewers. Any product that       may be evaluated in this article or claim that may be made by its       manufacturer is not guaranteed or endorsed by the publisher.        Footer  Guidelines   Author guidelinesEditor guidelinesPolicies and publication ethicsFee policy Explore   ArticlesResearch Topics Journals Outreach   Frontiers Forum Frontiers Policy Labs Frontiers for Young Minds Connect   Help centerEmails and alerts Contact us SubmitCareer opportunities Follow us  © 2024 Frontiers Media S.A. All rights reserved Privacy policy | Terms and conditions'),\n",
       " Document(page_content='recent advances in knowledge, emerging challenges and future direction. Curr. Opin. Environ. Sustain. 3, 321–327. doi: 10.1016/j.cosust.2011.08.011  CrossRef Full Text | Google Scholar    Bates, D., Mächler, M., Bolker, B., and Walker, S. (2015). Fitting linear mixed-effects models using lme4. J. Stat. Softw. 67, 1–48. doi: 10.18637/jss.v067.i01  CrossRef Full Text    Butterbach-Bahl, K., Baggs, E. M., Dannenmann, M., Kiese, R., and Zechmeister-Boltenstern, S. (2013). Nitrous oxide emissions from soils: how well do we understand the processes and their controls? Philos. Trans. R. Soc. Lond. B. Biol. Sci. 368, 1–13. doi: 10.1098/rstb.2013.0122 PubMed Abstract | CrossRef Full Text | Google Scholar    Campbell, B. M., Beare, D. J., Bennett, E. M., Hall-Spencer, J. M., Ingram, J. S. I., Jaramillo, F., et al. (2017). Agriculture production as a major driver of the Earth system exceeding planetary boundaries. Ecol. Soc. 22. doi: 10.5751/ES-09595-220408  CrossRef Full Text | Google Scholar'),\n",
       " Document(page_content='the early season cucumber cultivation in 2020 (Supplementary Figure 6A), because for most of the time sampling was not possible due to the COVID-19 pandemic. The existing data from new rock wool growing bags showed very low N2O emission rates (on average 0.5 g N2O–N ha−1 d−1) at the beginning of the cultivation period on 4 March, and low emission rates (on average 1.6 g N2O–N ha−1 d−1) at the end of the cultivation period in May (still with fertigation). Cumulative N2O emissions from the late season cultivation in 2019 were on average 0.74 kg N2O–N ha−1 (Table 3). Despite the shorter cultivation period, the N2O emissions were about 50% higher in the north block (on average 0.89 kg N2O–N ha−1) compared to the south block (on average 0.60 kg N2O–N ha−1). Compared to the new rock wool growing bags, the re-used rock wool growing bags had on average 9 and 25% higher N2O emissions in the north and south block, respectively. Permutational two-way ANOVA showed that the block effect (Pexact =')]"
      ]
     },
     "execution_count": 7,
     "metadata": {},
     "output_type": "execute_result"
    }
   ],
   "source": [
    "out"
   ]
  },
  {
   "cell_type": "code",
   "execution_count": 8,
   "metadata": {},
   "outputs": [],
   "source": [
    "class Choice(BaseModel):\n",
    "    answer: str = Field(..., description=\"The answer to the question\")"
   ]
  },
  {
   "cell_type": "code",
   "execution_count": 9,
   "metadata": {},
   "outputs": [],
   "source": [
    "parse = JsonOutputParser(pydantic_object=Choice)"
   ]
  },
  {
   "cell_type": "code",
   "execution_count": 10,
   "metadata": {},
   "outputs": [],
   "source": [
    "template = PromptTemplate(\n",
    "    template=\"{format_instructions} Which of the following is the most likely answer to the following question: {question}? Choices: {choices} References: {references}\",\n",
    "    input_variables=[\"question\", \"choices\", \"references\"]\n",
    ")"
   ]
  },
  {
   "cell_type": "code",
   "execution_count": 16,
   "metadata": {},
   "outputs": [],
   "source": [
    "# llm = ChatOllama(model=\"llama3\")\n",
    "llm = ChatGroq(api_key=\"**\", model=\"mixtral-8x7b-32768\")"
   ]
  },
  {
   "cell_type": "code",
   "execution_count": 12,
   "metadata": {},
   "outputs": [],
   "source": [
    "from langchain_core.output_parsers import StrOutputParser"
   ]
  },
  {
   "cell_type": "code",
   "execution_count": 17,
   "metadata": {},
   "outputs": [],
   "source": [
    "chain = template | llm | parse"
   ]
  },
  {
   "cell_type": "code",
   "execution_count": 18,
   "metadata": {},
   "outputs": [
    {
     "data": {
      "text/plain": [
       "{'answer': '300 times higher'}"
      ]
     },
     "execution_count": 18,
     "metadata": {},
     "output_type": "execute_result"
    }
   ],
   "source": [
    "chain.invoke({\n",
    "    \"question\": question_df.iloc[0]['text'],\n",
    "    \"choices\": question_df.iloc[0]['choices'],\n",
    "    \"references\": \" \".join([i.page_content for i in out]),\n",
    "    \"format_instructions\": parse.get_format_instructions()\n",
    "})"
   ]
  },
  {
   "cell_type": "code",
   "execution_count": 19,
   "metadata": {},
   "outputs": [
    {
     "data": {
      "text/plain": [
       "'300 times higher'"
      ]
     },
     "execution_count": 19,
     "metadata": {},
     "output_type": "execute_result"
    }
   ],
   "source": [
    "question_df.iloc[0]['answer']"
   ]
  }
 ],
 "metadata": {
  "kernelspec": {
   "display_name": "Python 3",
   "language": "python",
   "name": "python3"
  },
  "language_info": {
   "codemirror_mode": {
    "name": "ipython",
    "version": 3
   },
   "file_extension": ".py",
   "mimetype": "text/x-python",
   "name": "python",
   "nbconvert_exporter": "python",
   "pygments_lexer": "ipython3",
   "version": "3.11.8"
  }
 },
 "nbformat": 4,
 "nbformat_minor": 2
}
