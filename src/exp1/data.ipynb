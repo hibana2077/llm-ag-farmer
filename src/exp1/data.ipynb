{
 "cells": [
  {
   "cell_type": "code",
   "execution_count": 1,
   "metadata": {},
   "outputs": [],
   "source": [
    "from tqdm import tqdm\n",
    "from langchain_groq import ChatGroq\n",
    "from langchain_openai import ChatOpenAI\n",
    "from langchain_community.document_loaders import WebBaseLoader\n",
    "from langchain_core.prompts import PromptTemplate\n",
    "from langchain_core.messages.ai import AIMessage\n",
    "from langchain_core.messages.human import HumanMessage\n",
    "from langchain_core.messages.system import SystemMessage\n",
    "from langchain_core.output_parsers import JsonOutputParser\n",
    "from langchain_core.pydantic_v1 import BaseModel, Field\n",
    "from typing import List, Optional\n",
    "from datetime import datetime\n",
    "from enum import Enum\n",
    "import pandas as pd\n",
    "import time\n",
    "import os\n",
    "import yaml"
   ]
  },
  {
   "cell_type": "code",
   "execution_count": 3,
   "metadata": {},
   "outputs": [],
   "source": [
    "class Question(BaseModel):\n",
    "    type: str = Field(..., description=\"The type of question (multiple_choice or open_ended)\")\n",
    "    text: str = Field(..., description=\"The text of the question\")\n",
    "    choices: Optional[List[str]] = Field(None, description=\"The choices for multiple choice questions\")\n",
    "    answer: Optional[str] = Field(None, description=\"The answer to the question\")"
   ]
  },
  {
   "cell_type": "markdown",
   "metadata": {},
   "source": [
    "4 main topics (5 multiple-choice questions + 5 open-ended questions each)\n",
    "\n",
    "- Nutrient Solution Management (10 questions)\n",
    "- Water Quality Monitoring (10 questions)\n",
    "- Crop Growth Conditions (10 questions)\n",
    "- Disease Prevention and Control (10 questions)"
   ]
  },
  {
   "cell_type": "code",
   "execution_count": 4,
   "metadata": {},
   "outputs": [
    {
     "data": {
      "text/html": [
       "<div>\n",
       "<style scoped>\n",
       "    .dataframe tbody tr th:only-of-type {\n",
       "        vertical-align: middle;\n",
       "    }\n",
       "\n",
       "    .dataframe tbody tr th {\n",
       "        vertical-align: top;\n",
       "    }\n",
       "\n",
       "    .dataframe thead th {\n",
       "        text-align: right;\n",
       "    }\n",
       "</style>\n",
       "<table border=\"1\" class=\"dataframe\">\n",
       "  <thead>\n",
       "    <tr style=\"text-align: right;\">\n",
       "      <th></th>\n",
       "      <th>paper_title</th>\n",
       "      <th>paper_url</th>\n",
       "    </tr>\n",
       "  </thead>\n",
       "  <tbody>\n",
       "    <tr>\n",
       "      <th>0</th>\n",
       "      <td>Seasonal Nitrous Oxide Emissions From Hydropon...</td>\n",
       "      <td>https://www.frontiersin.org/journals/sustainab...</td>\n",
       "    </tr>\n",
       "    <tr>\n",
       "      <th>1</th>\n",
       "      <td>Microbial Community Analysis and Food Safety P...</td>\n",
       "      <td>https://www.frontiersin.org/journals/microbiol...</td>\n",
       "    </tr>\n",
       "    <tr>\n",
       "      <th>2</th>\n",
       "      <td>Effect of Methyl Jasmonate Treatment on Primar...</td>\n",
       "      <td>https://www.frontiersin.org/journals/nutrition...</td>\n",
       "    </tr>\n",
       "    <tr>\n",
       "      <th>3</th>\n",
       "      <td>Distinct metabolite classes in root exudates a...</td>\n",
       "      <td>https://www.frontiersin.org/journals/plant-sci...</td>\n",
       "    </tr>\n",
       "    <tr>\n",
       "      <th>4</th>\n",
       "      <td>Changes in Leaf Anatomical Traits Enhanced Pho...</td>\n",
       "      <td>https://www.frontiersin.org/journals/plant-sci...</td>\n",
       "    </tr>\n",
       "    <tr>\n",
       "      <th>5</th>\n",
       "      <td>Hydroponic lettuce defective leaves identifica...</td>\n",
       "      <td>https://www.frontiersin.org/journals/plant-sci...</td>\n",
       "    </tr>\n",
       "    <tr>\n",
       "      <th>6</th>\n",
       "      <td>Integrated physicochemical hormonal and transc...</td>\n",
       "      <td>https://www.frontiersin.org/journals/plant-sci...</td>\n",
       "    </tr>\n",
       "    <tr>\n",
       "      <th>7</th>\n",
       "      <td>Use of reclaimed urban wastewater for the prod...</td>\n",
       "      <td>https://www.frontiersin.org/journals/veterinar...</td>\n",
       "    </tr>\n",
       "    <tr>\n",
       "      <th>8</th>\n",
       "      <td>Isolation Characterization and Inactivation of...</td>\n",
       "      <td>https://www.frontiersin.org/journals/microbiol...</td>\n",
       "    </tr>\n",
       "    <tr>\n",
       "      <th>9</th>\n",
       "      <td>A Flexible Low-Cost Hydroponic Co-Cultivation ...</td>\n",
       "      <td>https://www.frontiersin.org/journals/plant-sci...</td>\n",
       "    </tr>\n",
       "  </tbody>\n",
       "</table>\n",
       "</div>"
      ],
      "text/plain": [
       "                                         paper_title  \\\n",
       "0  Seasonal Nitrous Oxide Emissions From Hydropon...   \n",
       "1  Microbial Community Analysis and Food Safety P...   \n",
       "2  Effect of Methyl Jasmonate Treatment on Primar...   \n",
       "3  Distinct metabolite classes in root exudates a...   \n",
       "4  Changes in Leaf Anatomical Traits Enhanced Pho...   \n",
       "5  Hydroponic lettuce defective leaves identifica...   \n",
       "6  Integrated physicochemical hormonal and transc...   \n",
       "7  Use of reclaimed urban wastewater for the prod...   \n",
       "8  Isolation Characterization and Inactivation of...   \n",
       "9  A Flexible Low-Cost Hydroponic Co-Cultivation ...   \n",
       "\n",
       "                                           paper_url  \n",
       "0  https://www.frontiersin.org/journals/sustainab...  \n",
       "1  https://www.frontiersin.org/journals/microbiol...  \n",
       "2  https://www.frontiersin.org/journals/nutrition...  \n",
       "3  https://www.frontiersin.org/journals/plant-sci...  \n",
       "4  https://www.frontiersin.org/journals/plant-sci...  \n",
       "5  https://www.frontiersin.org/journals/plant-sci...  \n",
       "6  https://www.frontiersin.org/journals/plant-sci...  \n",
       "7  https://www.frontiersin.org/journals/veterinar...  \n",
       "8  https://www.frontiersin.org/journals/microbiol...  \n",
       "9  https://www.frontiersin.org/journals/plant-sci...  "
      ]
     },
     "execution_count": 4,
     "metadata": {},
     "output_type": "execute_result"
    }
   ],
   "source": [
    "data_org_df = pd.read_csv(\"./data_source.csv\")\n",
    "data_org_df"
   ]
  },
  {
   "cell_type": "code",
   "execution_count": 5,
   "metadata": {},
   "outputs": [
    {
     "name": "stdout",
     "output_type": "stream",
     "text": [
      "[{'type': 'multiple_choice', 'text': 'What is the global warming potential of nitrous oxide (N2O) compared to carbon dioxide (CO2) on a 100-year scale?', 'choices': ['10 times higher', '100 times higher', '300 times higher', '500 times higher'], 'answer': '300 times higher'}, {'type': 'open_ended', 'text': 'Why are nitrous oxide emissions from hydroponic systems generally lower compared to field cultivation?', 'answer': 'Nitrous oxide emissions from hydroponic systems are generally lower than field cultivation because hydroponic systems allow for more controlled and precise irrigation and nutrient application, creating more aerobic conditions in the root zones. This minimizes conditions favorable for denitrification processes that are major contributors to N2O emissions. Additionally, the use of inert substrates like rock wool can further reduce emissions by avoiding the organic matter content that fuels microbial activity responsible for N2O production.'}]\n",
      "Processed 1 papers\n",
      "[{'type': 'multiple_choice', 'text': 'What is the most dominant genus identified in the hydroponic microgreen farm according to the study?', 'choices': ['Pseudomonas', 'Actinobacteria', 'Cyanobacteria', 'Proteobacteria'], 'answer': 'Pseudomonas'}, {'type': 'open_ended', 'text': 'Discuss the implications of finding Pseudomonas as the most abundant genus in the hydroponic microgreen farm.', 'answer': 'The presence of Pseudomonas as the most abundant genus in the hydroponic microgreen farm has several implications. Firstly, while some Pseudomonas species are known for promoting plant growth, others can be pathogens to plants, and some can spoil food. This could potentially lead to issues with plant health and food safety if pathogenic or spoilage species are prevalent. Additionally, the dominance of Pseudomonas could indicate specific environmental conditions or nutrient profiles that favor this genus, which might need to be adjusted to promote a more balanced microbial ecosystem. Lastly, the presence of Pseudomonas highlights the importance of continuous monitoring and possibly implementing control measures to manage the microbial population in hydroponic systems to ensure both plant health and food safety.'}]\n",
      "Processed 2 papers\n",
      "[{'type': 'multiple_choice', 'text': 'What is the effect of 500 μM MeJA treatment on the total sugar and amino acid contents of hydroponically grown Chinese chives?', 'choices': ['It significantly decreased both total sugar and amino acid contents', 'It significantly increased both total sugar and amino acid contents', 'It significantly increased total sugar content but decreased amino acid content', 'No significant changes were observed'], 'answer': 'It significantly increased both total sugar and amino acid contents'}, {'type': 'open_ended', 'text': 'How does MeJA treatment influence the phenolic content in substrate-grown Chinese chives compared to hydroponic Chinese chives?', 'answer': 'MeJA treatment significantly increased the phenolic content of substrate-grown Chinese chives, while in hydroponic Chinese chives, the phenolic content also increased but the extent was less compared to substrate-grown ones.'}]\n",
      "Processed 3 papers\n",
      "[{'type': 'multiple_choice', 'text': 'Which cover crop species showed a higher recovery of total carbon in hydroponics compared to the field?', 'choices': ['Mustard', 'Phacelia', 'Oat', 'Clover'], 'answer': 'Mustard'}, {'type': 'open_ended', 'text': 'What are the implications of different root exudate profiles between hydroponically-grown and field-grown plants for agricultural practices?', 'answer': 'The differences in root exudate profiles between hydroponically-grown and field-grown plants suggest that the method of cultivation can significantly influence the types and amounts of metabolites exuded by roots. This has implications for agricultural practices as it affects plant interactions with soil microbes and nutrient availability. Understanding these differences can help in developing cultivation practices that optimize plant health and soil fertility, especially in sustainable agriculture settings where natural interactions are crucial.'}]\n",
      "Processed 4 papers\n",
      "[{'type': 'multiple_choice', 'text': 'What are the effects of plant growth-promoting microorganisms (PGPMs) on soybean when grown hydroponically?', 'choices': ['Decreased photosynthetic activity', 'No significant effects', 'Enhanced photosynthetic activity and growth', 'Reduced plant growth'], 'answer': 'Enhanced photosynthetic activity and growth'}, {'type': 'open_ended', 'text': 'How do plant growth-promoting microorganisms (PGPMs) enhance the photosynthetic activity of hydroponically grown soybean?', 'answer': 'PGPMs induce changes in leaf functional anatomical traits such as higher density of smaller stomata, thicker palisade parenchyma, and larger intercellular spaces in the mesophyll. These modifications improve gas exchanges and photosynthetic efficiency, leading to increased photosynthetic activity and enhanced plant growth.'}]\n",
      "Processed 5 papers\n",
      "[{'type': 'multiple_choice', 'text': 'What is the primary purpose of integrating the ECA module into the backbone of the YOLOv5 model in the study?', 'choices': ['To reduce the computational complexity of the model', \"To enhance the model's ability to extract image features\", 'To increase the model size and parameters', 'To simplify the training process'], 'answer': \"To enhance the model's ability to extract image features\"}, {'type': 'open_ended', 'text': 'How does the BiFPN structure improve the feature fusion in the YOLOv5 model according to the study?', 'answer': 'The BiFPN structure in the YOLOv5 model establishes bidirectional cross-scale connections, which incorporate learnable weights to enhance feature fusion and improve detection accuracy by better understanding the importance of various input features.'}]\n",
      "Processed 6 papers\n",
      "[{'type': 'multiple_choice', 'text': 'What role does cytokinins (CKs) play in the callus formation of Pinellia ternata hydroponic cuttings?', 'choices': ['They inhibit cell division and promote senescence.', 'They play a crucial role in promoting cell division and preventing senescence.', 'They have no significant effect on callus formation.', 'They regulate the coloration of callus.'], 'answer': 'They play a crucial role in promoting cell division and preventing senescence.'}, {'type': 'open_ended', 'text': 'Explain how the expression of transcription factors such as PIF, MYC, ERF, TGA, and ARF is related to callus formation in Pinellia ternata hydroponic cuttings.', 'answer': 'Transcription factors like PIF, MYC, ERF, TGA, and ARF play key regulatory roles during callus formation in Pinellia ternata. These factors are involved in the regulation of gene networks that control hormone synthesis and signaling pathways. For instance, PIF4 regulates auxin genes that affect downstream signal transduction, influencing cell elongation and differentiation. ERF and MYC transcription factors are involved in stress responses, and their modulation can impact JA signaling and plant growth under stress. ARF transcription factors are crucial in auxin signaling, helping to regulate the expression of downstream genes required for cell proliferation and callus development. Overall, these transcription factors contribute to the complex hormonal and transcriptional regulation necessary for effective callus formation and subsequent plant regeneration.'}]\n",
      "Processed 7 papers\n",
      "[{'type': 'multiple_choice', 'text': 'What was the primary purpose of using reclaimed urban wastewater (RUW) in the production of hydroponic barley forage (HBF) in the study?', 'choices': ['To test the growth rate of barley in a controlled environment', \"To evaluate the safety and effects of RUW on lactating cows' health and milk production\", 'To increase the commercial profitability of dairy farms', 'To compare the efficiency of RUW with traditional watering systems'], 'answer': \"To evaluate the safety and effects of RUW on lactating cows' health and milk production\"}, {'type': 'open_ended', 'text': 'Discuss how the use of RUW for HBF production might impact the sustainability of water resources in agriculture.', 'answer': 'The use of reclaimed urban wastewater (RUW) for hydroponic barley forage (HBF) production could significantly enhance the sustainability of water resources in agriculture by providing a reliable alternative to freshwater, especially in areas facing water scarcity. By recycling wastewater, the demand on freshwater resources is reduced, which helps in conserving water for other essential uses. Additionally, this practice can help in managing wastewater effectively, reducing environmental pollution from wastewater discharge, and providing nutrients to the crops, which may decrease the need for synthetic fertilizers.'}]\n",
      "Processed 8 papers\n",
      "[{'type': 'multiple_choice', 'text': 'Which treatment method resulted in the highest reduction of Stenotrophomonas maltophilia in biofilms according to the study?', 'choices': ['UV treatment with 250 mJ/cm2', 'QAC treatment of 200 ppm for 15 minutes', 'Both treatments resulted in similar reductions', 'Neither treatment was effective'], 'answer': 'UV treatment with 250 mJ/cm2'}, {'type': 'open_ended', 'text': 'Discuss the implications of the presence of Stenotrophomonas maltophilia in hydroponically grown vegetables for public health.', 'answer': 'The presence of Stenotrophomonas maltophilia in hydroponically grown vegetables poses significant public health risks, particularly for immunocompromised individuals, as the pathogen is resistant to multiple drugs and capable of forming biofilms, enhancing its survivability and potential for infection. The study highlights the need for effective microbial control measures in hydroponic farming to prevent the contamination of leafy greens, which are often consumed raw. Ensuring microbial safety in these systems is crucial to prevent potential foodborne outbreaks.'}]\n",
      "Processed 9 papers\n",
      "[{'type': 'multiple_choice', 'text': 'What is the primary purpose of using hydroponic systems in the study of arbuscular mycorrhiza (AM) symbiosis?', 'choices': ['To control nutrient and chemical concentrations more easily', 'To increase the growth speed of the plant', 'To enhance the aesthetic appeal of the experimental setup', 'To reduce the cost of the research significantly'], 'answer': 'To control nutrient and chemical concentrations more easily'}, {'type': 'open_ended', 'text': \"Explain how the 'tip-wick' system is assembled and its significance for small model plants like Lotus japonicus in studying AM symbiosis.\", 'answer': \"The 'tip-wick' system is assembled using a tip-rack for 1 ml pipette tips, rockwool, aluminum foil, and L. japonicus seedlings. The rack is covered with aluminum foil to prevent light exposure and algae growth. Rockwool is inserted into cut 1 ml pipette tips, acting as a wick to deliver liquid media to the plant. Five hundred spores per tip are placed on top of each rockwool wick, followed by transplanting the seedlings into the tips with additional rockwool to support and guide roots into the nutrient solution. This system is significant for studying AM symbiosis in small model plants as it allows for controlled nutrient conditions, easy monitoring of root growth, and efficient root colonization, essential for investigating the molecular mechanisms of AM development and function.\"}]\n",
      "Processed 10 papers\n"
     ]
    }
   ],
   "source": [
    "multiple_choice_questions = []\n",
    "open_ended_questions = []\n",
    "for i in range(10):\n",
    "    loader = WebBaseLoader(data_org_df.iloc[i][\"paper_url\"])\n",
    "    data = loader.load()\n",
    "    content = data[0].page_content.replace(\"\\n\", \" \").replace(\"Frontiers |\", \" \").replace(\"espondence: Stefan Karlowsky, karlowsky@igzev.de   Disclaimer:        All claims expressed in this article are solely those of the authors and       do not necessarily represent those of their affiliated organizations, or       those of the publisher, the editors and the reviewers. Any product that       may be evaluated in this article or claim that may be made by its       manufacturer is not guaranteed or endorsed by the publisher.        Footer  Guidelines   Author guidelinesEditor guidelinesPolicies and publication ethicsFee policy Explore   ArticlesResearch Topics Journals Outreach   Frontiers Forum Frontiers Policy Labs Frontiers for Young Minds Connect   Help centerEmails and alerts Contact us SubmitCareer opportunities Follow us  © 2024 Frontiers Media S.A. All rightes Follow us  © 2024 Frontiers Media S.A. All right\", \" \")\n",
    "    parser = JsonOutputParser(pydantic_object=Question)\n",
    "    chatllm = ChatOpenAI(api_key=\"sk-XX\", model_name=\"gpt-4-turbo\")\n",
    "    template = PromptTemplate(\n",
    "        template = \"You are top expert in Hydroponic, I will show you some content and ask you to provide some questions and answers for the content (one multiple-choice questions and one open-ended questions). \\n #format_instructions: {format_instructions} and use list to package up [question1,question2] #Content: {content}\",\n",
    "        input_variables=['content'],\n",
    "        partial_variables={\"format_instructions\": parser.get_format_instructions()}\n",
    "        )\n",
    "    chain = template | chatllm | parser\n",
    "    out = chain.invoke({\"content\": content})\n",
    "    print(out)\n",
    "    for question in out:\n",
    "        if question['type'] == \"multiple_choice\":\n",
    "            multiple_choice_questions.append(question)\n",
    "        else:\n",
    "            open_ended_questions.append(question)\n",
    "    time.sleep(1)\n",
    "    print(f\"Processed {i+1} papers\")"
   ]
  },
  {
   "cell_type": "code",
   "execution_count": 6,
   "metadata": {},
   "outputs": [
    {
     "data": {
      "text/plain": [
       "[{'type': 'multiple_choice',\n",
       "  'text': 'What is the global warming potential of nitrous oxide (N2O) compared to carbon dioxide (CO2) on a 100-year scale?',\n",
       "  'choices': ['10 times higher',\n",
       "   '100 times higher',\n",
       "   '300 times higher',\n",
       "   '500 times higher'],\n",
       "  'answer': '300 times higher'},\n",
       " {'type': 'multiple_choice',\n",
       "  'text': 'What is the most dominant genus identified in the hydroponic microgreen farm according to the study?',\n",
       "  'choices': ['Pseudomonas',\n",
       "   'Actinobacteria',\n",
       "   'Cyanobacteria',\n",
       "   'Proteobacteria'],\n",
       "  'answer': 'Pseudomonas'},\n",
       " {'type': 'multiple_choice',\n",
       "  'text': 'What is the effect of 500 μM MeJA treatment on the total sugar and amino acid contents of hydroponically grown Chinese chives?',\n",
       "  'choices': ['It significantly decreased both total sugar and amino acid contents',\n",
       "   'It significantly increased both total sugar and amino acid contents',\n",
       "   'It significantly increased total sugar content but decreased amino acid content',\n",
       "   'No significant changes were observed'],\n",
       "  'answer': 'It significantly increased both total sugar and amino acid contents'},\n",
       " {'type': 'multiple_choice',\n",
       "  'text': 'Which cover crop species showed a higher recovery of total carbon in hydroponics compared to the field?',\n",
       "  'choices': ['Mustard', 'Phacelia', 'Oat', 'Clover'],\n",
       "  'answer': 'Mustard'},\n",
       " {'type': 'multiple_choice',\n",
       "  'text': 'What are the effects of plant growth-promoting microorganisms (PGPMs) on soybean when grown hydroponically?',\n",
       "  'choices': ['Decreased photosynthetic activity',\n",
       "   'No significant effects',\n",
       "   'Enhanced photosynthetic activity and growth',\n",
       "   'Reduced plant growth'],\n",
       "  'answer': 'Enhanced photosynthetic activity and growth'},\n",
       " {'type': 'multiple_choice',\n",
       "  'text': 'What is the primary purpose of integrating the ECA module into the backbone of the YOLOv5 model in the study?',\n",
       "  'choices': ['To reduce the computational complexity of the model',\n",
       "   \"To enhance the model's ability to extract image features\",\n",
       "   'To increase the model size and parameters',\n",
       "   'To simplify the training process'],\n",
       "  'answer': \"To enhance the model's ability to extract image features\"},\n",
       " {'type': 'multiple_choice',\n",
       "  'text': 'What role does cytokinins (CKs) play in the callus formation of Pinellia ternata hydroponic cuttings?',\n",
       "  'choices': ['They inhibit cell division and promote senescence.',\n",
       "   'They play a crucial role in promoting cell division and preventing senescence.',\n",
       "   'They have no significant effect on callus formation.',\n",
       "   'They regulate the coloration of callus.'],\n",
       "  'answer': 'They play a crucial role in promoting cell division and preventing senescence.'},\n",
       " {'type': 'multiple_choice',\n",
       "  'text': 'What was the primary purpose of using reclaimed urban wastewater (RUW) in the production of hydroponic barley forage (HBF) in the study?',\n",
       "  'choices': ['To test the growth rate of barley in a controlled environment',\n",
       "   \"To evaluate the safety and effects of RUW on lactating cows' health and milk production\",\n",
       "   'To increase the commercial profitability of dairy farms',\n",
       "   'To compare the efficiency of RUW with traditional watering systems'],\n",
       "  'answer': \"To evaluate the safety and effects of RUW on lactating cows' health and milk production\"},\n",
       " {'type': 'multiple_choice',\n",
       "  'text': 'Which treatment method resulted in the highest reduction of Stenotrophomonas maltophilia in biofilms according to the study?',\n",
       "  'choices': ['UV treatment with 250 mJ/cm2',\n",
       "   'QAC treatment of 200 ppm for 15 minutes',\n",
       "   'Both treatments resulted in similar reductions',\n",
       "   'Neither treatment was effective'],\n",
       "  'answer': 'UV treatment with 250 mJ/cm2'},\n",
       " {'type': 'multiple_choice',\n",
       "  'text': 'What is the primary purpose of using hydroponic systems in the study of arbuscular mycorrhiza (AM) symbiosis?',\n",
       "  'choices': ['To control nutrient and chemical concentrations more easily',\n",
       "   'To increase the growth speed of the plant',\n",
       "   'To enhance the aesthetic appeal of the experimental setup',\n",
       "   'To reduce the cost of the research significantly'],\n",
       "  'answer': 'To control nutrient and chemical concentrations more easily'}]"
      ]
     },
     "execution_count": 6,
     "metadata": {},
     "output_type": "execute_result"
    }
   ],
   "source": [
    "multiple_choice_questions"
   ]
  },
  {
   "cell_type": "code",
   "execution_count": 8,
   "metadata": {},
   "outputs": [],
   "source": [
    "for i in range(10):\n",
    "    multiple_choice_questions[i][\"url\"] = data_org_df.iloc[i][\"paper_url\"]"
   ]
  },
  {
   "cell_type": "code",
   "execution_count": 9,
   "metadata": {},
   "outputs": [],
   "source": [
    "# save to csv\n",
    "multiple_choice_questions_df = pd.DataFrame(multiple_choice_questions)\n",
    "multiple_choice_questions_df.to_csv(\"multiple_choice_questions.csv\", index=False)"
   ]
  },
  {
   "cell_type": "code",
   "execution_count": 10,
   "metadata": {},
   "outputs": [],
   "source": [
    "for i in range(10):\n",
    "    open_ended_questions[i][\"url\"] = data_org_df.iloc[i][\"paper_url\"]"
   ]
  },
  {
   "cell_type": "code",
   "execution_count": 11,
   "metadata": {},
   "outputs": [],
   "source": [
    "# save to csv\n",
    "open_ended_questions_df = pd.DataFrame(open_ended_questions)\n",
    "open_ended_questions_df.to_csv(\"open_ended_questions.csv\", index=False)"
   ]
  }
 ],
 "metadata": {
  "kernelspec": {
   "display_name": "Python 3",
   "language": "python",
   "name": "python3"
  },
  "language_info": {
   "codemirror_mode": {
    "name": "ipython",
    "version": 3
   },
   "file_extension": ".py",
   "mimetype": "text/x-python",
   "name": "python",
   "nbconvert_exporter": "python",
   "pygments_lexer": "ipython3",
   "version": "3.11.8"
  }
 },
 "nbformat": 4,
 "nbformat_minor": 2
}
