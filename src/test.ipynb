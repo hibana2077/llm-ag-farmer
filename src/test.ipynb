{
 "cells": [
  {
   "cell_type": "code",
   "execution_count": null,
   "metadata": {},
   "outputs": [],
   "source": [
    "# setp\n",
    "## Load the knowledge base (too late)\n",
    "## Write rules\n",
    "## LLMs generate responses based on rules"
   ]
  }
 ],
 "metadata": {
  "language_info": {
   "name": "python"
  }
 },
 "nbformat": 4,
 "nbformat_minor": 2
}
